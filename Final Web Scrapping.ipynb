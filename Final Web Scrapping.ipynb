{
 "cells": [
  {
   "cell_type": "markdown",
   "id": "264b6f37",
   "metadata": {},
   "source": [
    "# BeautifulSoup\n",
    "# Requests\n",
    "# Pandas"
   ]
  },
  {
   "cell_type": "code",
   "execution_count": null,
   "id": "a6e7580d",
   "metadata": {},
   "outputs": [],
   "source": [
    "pip install bs4 #BeautifulSoup"
   ]
  },
  {
   "cell_type": "code",
   "execution_count": null,
   "id": "7d8e0912",
   "metadata": {},
   "outputs": [],
   "source": [
    "pip install requests #Requests"
   ]
  },
  {
   "cell_type": "code",
   "execution_count": 1,
   "id": "9cba2b8e",
   "metadata": {},
   "outputs": [],
   "source": [
    "# Importing Libraries\n",
    "\n",
    "import requests\n",
    "from bs4 import BeautifulSoup\n",
    "import pandas as pd"
   ]
  },
  {
   "cell_type": "code",
   "execution_count": 2,
   "id": "46c87622",
   "metadata": {},
   "outputs": [],
   "source": [
    "url = \"https://books.toscrape.com/catalogue/page-1.html\""
   ]
  },
  {
   "cell_type": "code",
   "execution_count": 3,
   "id": "3e609d73",
   "metadata": {},
   "outputs": [],
   "source": [
    "response = requests.get(url)"
   ]
  },
  {
   "cell_type": "code",
   "execution_count": 4,
   "id": "ab293feb",
   "metadata": {},
   "outputs": [],
   "source": [
    "response = response.content"
   ]
  },
  {
   "cell_type": "code",
   "execution_count": 5,
   "id": "4185bd6c",
   "metadata": {},
   "outputs": [],
   "source": [
    "soup = BeautifulSoup(response,'html.parser')"
   ]
  },
  {
   "cell_type": "code",
   "execution_count": 6,
   "id": "b427073e",
   "metadata": {},
   "outputs": [],
   "source": [
    "ol = soup.find('ol')"
   ]
  },
  {
   "cell_type": "code",
   "execution_count": 7,
   "id": "22a8e749",
   "metadata": {},
   "outputs": [
    {
     "name": "stdout",
     "output_type": "stream",
     "text": [
      "A Light in the Attic\n",
      "Tipping the Velvet\n",
      "Soumission\n",
      "Sharp Objects\n",
      "Sapiens: A Brief History of Humankind\n",
      "The Requiem Red\n",
      "The Dirty Little Secrets of Getting Your Dream Job\n",
      "The Coming Woman: A Novel Based on the Life of the Infamous Feminist, Victoria Woodhull\n",
      "The Boys in the Boat: Nine Americans and Their Epic Quest for Gold at the 1936 Berlin Olympics\n",
      "The Black Maria\n",
      "Starving Hearts (Triangular Trade Trilogy, #1)\n",
      "Shakespeare's Sonnets\n",
      "Set Me Free\n",
      "Scott Pilgrim's Precious Little Life (Scott Pilgrim #1)\n",
      "Rip it Up and Start Again\n",
      "Our Band Could Be Your Life: Scenes from the American Indie Underground, 1981-1991\n",
      "Olio\n",
      "Mesaerion: The Best Science Fiction Stories 1800-1849\n",
      "Libertarianism for Beginners\n",
      "It's Only the Himalayas\n"
     ]
    }
   ],
   "source": [
    "contents = ol.find_all('article',class_ = 'product_pod')\n",
    "\n",
    "for content in contents:\n",
    "    image = content.find('img')\n",
    "    title = image.attrs['alt']\n",
    "    print(title)"
   ]
  },
  {
   "cell_type": "code",
   "execution_count": 15,
   "id": "8d8f4de2",
   "metadata": {},
   "outputs": [
    {
     "name": "stdout",
     "output_type": "stream",
     "text": [
      "Three\n",
      "One\n",
      "One\n",
      "Four\n",
      "Five\n",
      "One\n",
      "Four\n",
      "Three\n",
      "Four\n",
      "One\n",
      "Two\n",
      "Four\n",
      "Five\n",
      "Five\n",
      "Five\n",
      "Three\n",
      "One\n",
      "One\n",
      "Two\n",
      "Two\n"
     ]
    }
   ],
   "source": [
    "for content in contents:\n",
    "    star = content.find('p')\n",
    "    star = star['class'][1]\n",
    "    print(star)"
   ]
  },
  {
   "cell_type": "code",
   "execution_count": 18,
   "id": "bba10013",
   "metadata": {},
   "outputs": [
    {
     "name": "stdout",
     "output_type": "stream",
     "text": [
      "51.77\n",
      "53.74\n",
      "50.1\n",
      "47.82\n",
      "54.23\n",
      "22.65\n",
      "33.34\n",
      "17.93\n",
      "22.6\n",
      "52.15\n",
      "13.99\n",
      "20.66\n",
      "17.46\n",
      "52.29\n",
      "35.02\n",
      "57.25\n",
      "23.88\n",
      "37.59\n",
      "51.33\n",
      "45.17\n"
     ]
    }
   ],
   "source": [
    "for content in contents:\n",
    "    price =content.find('p',class_ = 'price_color').text\n",
    "    price = float(price[1:])\n",
    "    print(price)"
   ]
  },
  {
   "cell_type": "code",
   "execution_count": 19,
   "id": "e9053fc6",
   "metadata": {},
   "outputs": [
    {
     "name": "stdout",
     "output_type": "stream",
     "text": [
      "[['A Light in the Attic', 'Three', 51.77], ['Tipping the Velvet', 'One', 53.74], ['Soumission', 'One', 50.1], ['Sharp Objects', 'Four', 47.82], ['Sapiens: A Brief History of Humankind', 'Five', 54.23], ['The Requiem Red', 'One', 22.65], ['The Dirty Little Secrets of Getting Your Dream Job', 'Four', 33.34], ['The Coming Woman: A Novel Based on the Life of the Infamous Feminist, Victoria Woodhull', 'Three', 17.93], ['The Boys in the Boat: Nine Americans and Their Epic Quest for Gold at the 1936 Berlin Olympics', 'Four', 22.6], ['The Black Maria', 'One', 52.15], ['Starving Hearts (Triangular Trade Trilogy, #1)', 'Two', 13.99], [\"Shakespeare's Sonnets\", 'Four', 20.66], ['Set Me Free', 'Five', 17.46], [\"Scott Pilgrim's Precious Little Life (Scott Pilgrim #1)\", 'Five', 52.29], ['Rip it Up and Start Again', 'Five', 35.02], ['Our Band Could Be Your Life: Scenes from the American Indie Underground, 1981-1991', 'Three', 57.25], ['Olio', 'One', 23.88], ['Mesaerion: The Best Science Fiction Stories 1800-1849', 'One', 37.59], ['Libertarianism for Beginners', 'Two', 51.33], [\"It's Only the Himalayas\", 'Two', 45.17]]\n"
     ]
    }
   ],
   "source": [
    "contents = ol.find_all('article',class_ = 'product_pod')\n",
    "\n",
    "Content = []\n",
    "\n",
    "for content in contents:\n",
    "    image = content.find('img')\n",
    "    title = image.attrs['alt']\n",
    "    star = content.find('p')\n",
    "    star = star['class'][1]\n",
    "    price =content.find('p',class_ = 'price_color').text\n",
    "    price = float(price[1:])\n",
    "    Content.append([title,star,price])\n",
    "    \n",
    "print(Content)"
   ]
  },
  {
   "cell_type": "code",
   "execution_count": 20,
   "id": "9537c739",
   "metadata": {},
   "outputs": [],
   "source": [
    "Content = []\n",
    "\n",
    "for i in range(1,5):\n",
    "    url = f\"https://books.toscrape.com/catalogue/page-{i}.html\"\n",
    "    response = requests.get(url)\n",
    "    response = response.content\n",
    "    soup = BeautifulSoup(response,'html.parser')\n",
    "    ol = soup.find('ol')\n",
    "    contents = ol.find_all('article',class_ = 'product_pod')\n",
    "    for content in contents:\n",
    "        image = content.find('img')\n",
    "        title = image.attrs['alt']\n",
    "        star = content.find('p')\n",
    "        star = star['class'][1]\n",
    "        price =content.find('p',class_ = 'price_color').text\n",
    "        price = float(price[1:])\n",
    "        Content.append([title,star,price])"
   ]
  },
  {
   "cell_type": "code",
   "execution_count": 21,
   "id": "558e7624",
   "metadata": {},
   "outputs": [],
   "source": [
    "df = pd.DataFrame(Content,columns = ['Title','Stars','Price'])"
   ]
  },
  {
   "cell_type": "code",
   "execution_count": 23,
   "id": "4adf8956",
   "metadata": {},
   "outputs": [
    {
     "data": {
      "text/html": [
       "<div>\n",
       "<style scoped>\n",
       "    .dataframe tbody tr th:only-of-type {\n",
       "        vertical-align: middle;\n",
       "    }\n",
       "\n",
       "    .dataframe tbody tr th {\n",
       "        vertical-align: top;\n",
       "    }\n",
       "\n",
       "    .dataframe thead th {\n",
       "        text-align: right;\n",
       "    }\n",
       "</style>\n",
       "<table border=\"1\" class=\"dataframe\">\n",
       "  <thead>\n",
       "    <tr style=\"text-align: right;\">\n",
       "      <th></th>\n",
       "      <th>Title</th>\n",
       "      <th>Stars</th>\n",
       "      <th>Price</th>\n",
       "    </tr>\n",
       "  </thead>\n",
       "  <tbody>\n",
       "    <tr>\n",
       "      <th>0</th>\n",
       "      <td>A Light in the Attic</td>\n",
       "      <td>Three</td>\n",
       "      <td>51.77</td>\n",
       "    </tr>\n",
       "    <tr>\n",
       "      <th>1</th>\n",
       "      <td>Tipping the Velvet</td>\n",
       "      <td>One</td>\n",
       "      <td>53.74</td>\n",
       "    </tr>\n",
       "    <tr>\n",
       "      <th>2</th>\n",
       "      <td>Soumission</td>\n",
       "      <td>One</td>\n",
       "      <td>50.10</td>\n",
       "    </tr>\n",
       "    <tr>\n",
       "      <th>3</th>\n",
       "      <td>Sharp Objects</td>\n",
       "      <td>Four</td>\n",
       "      <td>47.82</td>\n",
       "    </tr>\n",
       "    <tr>\n",
       "      <th>4</th>\n",
       "      <td>Sapiens: A Brief History of Humankind</td>\n",
       "      <td>Five</td>\n",
       "      <td>54.23</td>\n",
       "    </tr>\n",
       "    <tr>\n",
       "      <th>5</th>\n",
       "      <td>The Requiem Red</td>\n",
       "      <td>One</td>\n",
       "      <td>22.65</td>\n",
       "    </tr>\n",
       "    <tr>\n",
       "      <th>6</th>\n",
       "      <td>The Dirty Little Secrets of Getting Your Dream...</td>\n",
       "      <td>Four</td>\n",
       "      <td>33.34</td>\n",
       "    </tr>\n",
       "    <tr>\n",
       "      <th>7</th>\n",
       "      <td>The Coming Woman: A Novel Based on the Life of...</td>\n",
       "      <td>Three</td>\n",
       "      <td>17.93</td>\n",
       "    </tr>\n",
       "    <tr>\n",
       "      <th>8</th>\n",
       "      <td>The Boys in the Boat: Nine Americans and Their...</td>\n",
       "      <td>Four</td>\n",
       "      <td>22.60</td>\n",
       "    </tr>\n",
       "    <tr>\n",
       "      <th>9</th>\n",
       "      <td>The Black Maria</td>\n",
       "      <td>One</td>\n",
       "      <td>52.15</td>\n",
       "    </tr>\n",
       "    <tr>\n",
       "      <th>10</th>\n",
       "      <td>Starving Hearts (Triangular Trade Trilogy, #1)</td>\n",
       "      <td>Two</td>\n",
       "      <td>13.99</td>\n",
       "    </tr>\n",
       "    <tr>\n",
       "      <th>11</th>\n",
       "      <td>Shakespeare's Sonnets</td>\n",
       "      <td>Four</td>\n",
       "      <td>20.66</td>\n",
       "    </tr>\n",
       "    <tr>\n",
       "      <th>12</th>\n",
       "      <td>Set Me Free</td>\n",
       "      <td>Five</td>\n",
       "      <td>17.46</td>\n",
       "    </tr>\n",
       "    <tr>\n",
       "      <th>13</th>\n",
       "      <td>Scott Pilgrim's Precious Little Life (Scott Pi...</td>\n",
       "      <td>Five</td>\n",
       "      <td>52.29</td>\n",
       "    </tr>\n",
       "    <tr>\n",
       "      <th>14</th>\n",
       "      <td>Rip it Up and Start Again</td>\n",
       "      <td>Five</td>\n",
       "      <td>35.02</td>\n",
       "    </tr>\n",
       "    <tr>\n",
       "      <th>15</th>\n",
       "      <td>Our Band Could Be Your Life: Scenes from the A...</td>\n",
       "      <td>Three</td>\n",
       "      <td>57.25</td>\n",
       "    </tr>\n",
       "    <tr>\n",
       "      <th>16</th>\n",
       "      <td>Olio</td>\n",
       "      <td>One</td>\n",
       "      <td>23.88</td>\n",
       "    </tr>\n",
       "    <tr>\n",
       "      <th>17</th>\n",
       "      <td>Mesaerion: The Best Science Fiction Stories 18...</td>\n",
       "      <td>One</td>\n",
       "      <td>37.59</td>\n",
       "    </tr>\n",
       "    <tr>\n",
       "      <th>18</th>\n",
       "      <td>Libertarianism for Beginners</td>\n",
       "      <td>Two</td>\n",
       "      <td>51.33</td>\n",
       "    </tr>\n",
       "    <tr>\n",
       "      <th>19</th>\n",
       "      <td>It's Only the Himalayas</td>\n",
       "      <td>Two</td>\n",
       "      <td>45.17</td>\n",
       "    </tr>\n",
       "  </tbody>\n",
       "</table>\n",
       "</div>"
      ],
      "text/plain": [
       "                                                Title  Stars  Price\n",
       "0                                A Light in the Attic  Three  51.77\n",
       "1                                  Tipping the Velvet    One  53.74\n",
       "2                                          Soumission    One  50.10\n",
       "3                                       Sharp Objects   Four  47.82\n",
       "4               Sapiens: A Brief History of Humankind   Five  54.23\n",
       "5                                     The Requiem Red    One  22.65\n",
       "6   The Dirty Little Secrets of Getting Your Dream...   Four  33.34\n",
       "7   The Coming Woman: A Novel Based on the Life of...  Three  17.93\n",
       "8   The Boys in the Boat: Nine Americans and Their...   Four  22.60\n",
       "9                                     The Black Maria    One  52.15\n",
       "10     Starving Hearts (Triangular Trade Trilogy, #1)    Two  13.99\n",
       "11                              Shakespeare's Sonnets   Four  20.66\n",
       "12                                        Set Me Free   Five  17.46\n",
       "13  Scott Pilgrim's Precious Little Life (Scott Pi...   Five  52.29\n",
       "14                          Rip it Up and Start Again   Five  35.02\n",
       "15  Our Band Could Be Your Life: Scenes from the A...  Three  57.25\n",
       "16                                               Olio    One  23.88\n",
       "17  Mesaerion: The Best Science Fiction Stories 18...    One  37.59\n",
       "18                       Libertarianism for Beginners    Two  51.33\n",
       "19                            It's Only the Himalayas    Two  45.17"
      ]
     },
     "execution_count": 23,
     "metadata": {},
     "output_type": "execute_result"
    }
   ],
   "source": [
    "df.head(20)"
   ]
  },
  {
   "cell_type": "code",
   "execution_count": 24,
   "id": "5e3e7ef1",
   "metadata": {},
   "outputs": [],
   "source": [
    "df.to_csv('Books_Scrapped.csv')"
   ]
  },
  {
   "cell_type": "code",
   "execution_count": null,
   "id": "f4985846",
   "metadata": {},
   "outputs": [],
   "source": [
    "# End of Web Scrapping"
   ]
  }
 ],
 "metadata": {
  "kernelspec": {
   "display_name": "Python 3 (ipykernel)",
   "language": "python",
   "name": "python3"
  },
  "language_info": {
   "codemirror_mode": {
    "name": "ipython",
    "version": 3
   },
   "file_extension": ".py",
   "mimetype": "text/x-python",
   "name": "python",
   "nbconvert_exporter": "python",
   "pygments_lexer": "ipython3",
   "version": "3.11.2"
  }
 },
 "nbformat": 4,
 "nbformat_minor": 5
}
